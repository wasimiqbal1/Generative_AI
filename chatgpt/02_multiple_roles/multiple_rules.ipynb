{
 "cells": [
  {
   "cell_type": "markdown",
   "metadata": {},
   "source": [
    "# Making an API request"
   ]
  },
  {
   "cell_type": "code",
   "execution_count": 1,
   "metadata": {},
   "outputs": [],
   "source": [
    "from openai import OpenAI\n",
    "from dotenv import load_dotenv, find_dotenv\n",
    "\n",
    "_ : bool = load_dotenv(find_dotenv()) # read local .env file\n",
    "\n",
    "client : OpenAI = OpenAI()\n",
    "\n"
   ]
  },
  {
   "cell_type": "code",
   "execution_count": 2,
   "metadata": {},
   "outputs": [
    {
     "name": "stdout",
     "output_type": "stream",
     "text": [
      "In the realm of code, where logic rules the day,\n",
      "There lies a concept, in a clever way.\n",
      "It's called recursion, a powerful force,\n",
      "That makes a program take a different course.\n",
      "\n",
      "Just like a mirror reflecting its own image true,\n",
      "Recursion calls itself, a cycle to renew.\n",
      "A function that calls itself, again and again,\n",
      "A loop of iteration, without a need for strain.\n",
      "\n",
      "Like a Russian nesting doll, endlessly profound,\n",
      "Recursion unwraps layers, circling round and round.\n",
      "Solving problems complex, with elegance and art,\n",
      "It's the magician of programming, playing its part.\n",
      "\n",
      "With each recursive step, the stack grows tall,\n",
      "Unraveling mysteries, answering the call.\n",
      "A dance of self-reference, a journey so sublime,\n",
      "Recursion weaves its magic in the fabric of time.\n",
      "\n",
      "But lest we forget, in the land of code and compile,\n",
      "A base case we must set, to break the recursive style.\n",
      "For in the infinite loop, lies danger and despair,\n",
      "So recursion must be tamed, with caution and with care.\n",
      "\n",
      "So embrace the beauty of recursion's endless loop,\n",
      "A concept so enchanting, a puzzle to troupe.\n",
      "In the world of programming, it's a wondrous feat,\n",
      "Recursion, the enchantress, making code complete.\n"
     ]
    }
   ],
   "source": [
    "from openai.types.chat.chat_completion import ChatCompletion\n",
    "\n",
    "def chat_completion(prompt : str)->str:\n",
    "  completion : ChatCompletion = client.chat.completions.create(\n",
    "    model  = \"gpt-3.5-turbo-1106\",\n",
    "    messages= [\n",
    "      {\"role\": \"system\", \"content\": \"You are a poetic assistant, skilled in explaining complex programming concepts with creative flair.\"},\n",
    "      {\"role\": \"user\", \"content\": prompt}\n",
    "    ]\n",
    "  )\n",
    "\n",
    "  return completion.choices[0].message.content\n",
    "\n",
    "print(chat_completion(\"Compose a poem that explains the concept of recursion in programming.\"))"
   ]
  }
 ],
 "metadata": {
  "kernelspec": {
   "display_name": "py311",
   "language": "python",
   "name": "python3"
  },
  "language_info": {
   "codemirror_mode": {
    "name": "ipython",
    "version": 3
   },
   "file_extension": ".py",
   "mimetype": "text/x-python",
   "name": "python",
   "nbconvert_exporter": "python",
   "pygments_lexer": "ipython3",
   "version": "3.12.0"
  },
  "orig_nbformat": 4
 },
 "nbformat": 4,
 "nbformat_minor": 2
}
