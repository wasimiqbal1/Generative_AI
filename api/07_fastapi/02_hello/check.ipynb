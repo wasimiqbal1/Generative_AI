{
 "cells": [
  {
   "cell_type": "code",
   "execution_count": 1,
   "metadata": {},
   "outputs": [
    {
     "name": "stdout",
     "output_type": "stream",
     "text": [
      "200\n",
      "{\"message\":\"Hello World! PIAIC\"}\n",
      "{'message': 'Hello World! PIAIC'}\n",
      "{'date': 'Sun, 09 Jun 2024 11:03:33 GMT', 'server': 'uvicorn', 'content-length': '32', 'content-type': 'application/json'}\n"
     ]
    }
   ],
   "source": [
    "import requests\n",
    "\n",
    "res = requests.get(\"http://127.0.0.1:8000/\")\n",
    "print(res.status_code)\n",
    "print(res.text)\n",
    "print(res.json())\n",
    "print(res.headers)\n"
   ]
  }
 ],
 "metadata": {
  "kernelspec": {
   "display_name": "python12",
   "language": "python",
   "name": "python3"
  },
  "language_info": {
   "codemirror_mode": {
    "name": "ipython",
    "version": 3
   },
   "file_extension": ".py",
   "mimetype": "text/x-python",
   "name": "python",
   "nbconvert_exporter": "python",
   "pygments_lexer": "ipython3",
   "version": "3.12.0"
  }
 },
 "nbformat": 4,
 "nbformat_minor": 2
}
